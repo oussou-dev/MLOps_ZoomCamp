{
  "nbformat": 4,
  "nbformat_minor": 0,
  "metadata": {
    "colab": {
      "name": "homework2_p.ipynb",
      "provenance": []
    },
    "kernelspec": {
      "name": "python3",
      "display_name": "Python 3"
    },
    "language_info": {
      "name": "python"
    }
  },
  "cells": [
    {
      "cell_type": "markdown",
      "source": [
        "#**Homework - Week #2**"
      ],
      "metadata": {
        "id": "kyU4IMAXEupu"
      }
    },
    {
      "cell_type": "markdown",
      "source": [
        "## **Q1. Install MLflow**"
      ],
      "metadata": {
        "id": "KHQTJG1_GXW7"
      }
    },
    {
      "cell_type": "code",
      "source": [
        "# !pip3 install mlflow"
      ],
      "metadata": {
        "id": "HGXQV_A2GPv6"
      },
      "execution_count": null,
      "outputs": []
    },
    {
      "cell_type": "markdown",
      "source": [
        "> **What's the version that you have?**"
      ],
      "metadata": {
        "id": "Jag8jV-PHEGi"
      }
    },
    {
      "cell_type": "code",
      "execution_count": null,
      "metadata": {
        "colab": {
          "base_uri": "https://localhost:8080/"
        },
        "id": "mfeiBDg5EqU_",
        "outputId": "37c91242-71b9-43ab-ddcb-aeffcdb3001d"
      },
      "outputs": [
        {
          "output_type": "stream",
          "name": "stdout",
          "text": [
            "mlflow, version 1.26.1\n"
          ]
        }
      ],
      "source": [
        "!mlflow --version"
      ]
    },
    {
      "cell_type": "markdown",
      "source": [
        "## **Q2. Download and preprocess the data**"
      ],
      "metadata": {
        "id": "I86YlDEqHUPQ"
      }
    },
    {
      "cell_type": "markdown",
      "source": [
        "We'll use the Green Taxi Trip Records dataset. \n",
        "\n",
        "Download the data for January, February and March 2021 in parquet format from [here](https://www1.nyc.gov/site/tlc/about/tlc-trip-record-data.page).\n",
        "\n",
        "Use the script `preprocess_data.py` located in the folder [`homework`](https://github.com/DataTalksClub/mlops-zoomcamp/tree/main/02-experiment-tracking/homework) to preprocess the data.\n",
        "\n",
        "The script will\n",
        "\n",
        "- load the data from the folder `<TAXI_DATA_FOLDER>` (the folder where you have downloaded the data),\n",
        "- fit a `DictVectorizer` on the training set (January 2021 data),\n",
        "- save the preprocessed datasets and the model to disk\n",
        "\n",
        "Your task is to download the datasets and then execute this command:\n",
        "\n",
        "```\n",
        "python preprocess_data.py --raw_data_path <TAXI_DATA_FOLDER> --dest_path ./output\n",
        "```\n",
        "\n",
        "Tip: go to `02-experiment-tracking/homework/` folder before executing the command and change the value of `<TAXI_DATA_FOLDER>` to the location where you saved the data.\n",
        "\n",
        "How many files were saved to `OUTPUT_FOLDER`?\n",
        "\n",
        "* 1\n",
        "* 3\n",
        "* 4\n",
        "* 7"
      ],
      "metadata": {
        "id": "Hecc7B-1H1Dv"
      }
    },
    {
      "cell_type": "code",
      "source": [
        "!python3 homework/preprocess_data.py --raw_data_path TAXI_DATA_FOLDER/ --dest_path output_taxi"
      ],
      "metadata": {
        "id": "wjcXeOCbF_xu"
      },
      "execution_count": null,
      "outputs": []
    },
    {
      "cell_type": "code",
      "source": [
        "# number of files\n",
        "!ls output_taxi | wc -l"
      ],
      "metadata": {
        "colab": {
          "base_uri": "https://localhost:8080/"
        },
        "id": "BQHYEfLNLTpZ",
        "outputId": "bb7fdbe5-1577-4d89-b896-b1738e4cfa7c"
      },
      "execution_count": null,
      "outputs": [
        {
          "output_type": "stream",
          "name": "stdout",
          "text": [
            "4\n"
          ]
        }
      ]
    },
    {
      "cell_type": "markdown",
      "source": [
        "> **4 files**"
      ],
      "metadata": {
        "id": "cGHVe2gPOldL"
      }
    },
    {
      "cell_type": "markdown",
      "source": [
        "## **Q3. Train a model with autolog**\n",
        "\n",
        "We will train a random forest regressor (from Scikit-Learn) on the taxi dataset.\n",
        "\n",
        "We have prepared the training script `train.py` for this exercise, which can be also found in the folder `homework`. The script will load the datasets produced by the previous step, train the model on the training set and finally calculate the RMSE on the validation set.\n",
        "\n",
        "Your task is to modify the script to enable **autologging** with MLflow, execute the script and then launch the MLflow UI to check that the experiment run was properly tracked. \n",
        "\n",
        "Tip 1: don't forget to wrap the training code with a `with mlflow.start_run():` statement as we showed in the videos.\n",
        "\n",
        "Tip 2: don't modify the hyperparameters of the model to make sure that the training will finish quickly.\n",
        "\n",
        "How many parameters are automatically logged by MLflow?\n",
        "\n",
        "* 19\n",
        "* 17\n",
        "* 10\n",
        "* 20"
      ],
      "metadata": {
        "id": "wyCvHovEO5if"
      }
    },
    {
      "cell_type": "code",
      "source": [
        "!python3 homework/train.py --data_path output_taxi"
      ],
      "metadata": {
        "colab": {
          "base_uri": "https://localhost:8080/"
        },
        "id": "q21EWvrURXDk",
        "outputId": "a3b9be3e-31d7-42f1-cfe3-8fc514c4a71e"
      },
      "execution_count": null,
      "outputs": [
        {
          "output_type": "stream",
          "name": "stdout",
          "text": [
            "2022/05/31 13:21:29 INFO mlflow.utils.autologging_utils: Created MLflow autologging run with ID '129d03090a1f4cc9b5c82ff5b01a892c', which will track hyperparameters, performance metrics, model artifacts, and lineage information for the current sklearn workflow\n"
          ]
        }
      ]
    },
    {
      "cell_type": "markdown",
      "source": [
        "> **17 parameters**"
      ],
      "metadata": {
        "id": "cnfb1LrTQvIi"
      }
    },
    {
      "cell_type": "markdown",
      "source": [
        "## **Q4. Launch the tracking server locally**\n",
        "\n",
        "We want to manage the entire lifecycle of our ML model. In this step, you'll need to launch a tracking server. This way we will also have access to the model registry. \n",
        "\n",
        "Your task is to\n",
        "\n",
        "* launch the tracking server on your local machine\n",
        "* select a SQLite db for the backend store and a folder called `artifacts` for the artifacts store\n",
        "\n",
        "You should keep the tracking server running to work on the next two exercises that use the server.\n",
        "\n",
        "In addition to `backend-store-uri`, what else do you need to pass to properly configure the server?\n",
        "\n",
        "* `default-artifact-root`\n",
        "* `serve-artifacts`\n",
        "* `artifacts-only`\n",
        "* `artifacts-destination`"
      ],
      "metadata": {
        "id": "38soF1wMQ3Qu"
      }
    },
    {
      "cell_type": "code",
      "source": [
        "!mlflow ui --backend-store-uri sqlite:///mlflow.db --default-artifact-root artifacts"
      ],
      "metadata": {
        "id": "NG-BHSrASF2M"
      },
      "execution_count": null,
      "outputs": []
    },
    {
      "cell_type": "markdown",
      "source": [
        "> **default-artifact-root**"
      ],
      "metadata": {
        "id": "AaPM9DjKRGXD"
      }
    },
    {
      "cell_type": "markdown",
      "source": [
        "## **Q5. Tune the hyperparameters of the model**\n",
        "\n",
        "Now let's try to reduce the validation error by tuning the hyperparameters of the random forest regressor using `hyperopt`.\n",
        "\n",
        "We have prepared the script `hpo.py` for this exercise. \n",
        "\n",
        "Your task is to modify the script `hpo.py` and make sure that the validation RMSE is logged to MLflow for each run of the hyperparameter optimization (you will need to add a few lines of code to the `objective` function) and run the script without passing any parameters.\n",
        "\n",
        "After that, open the MLflow UI and explore the runs from the experiment called `random-forest-hyperopt` to answer the question below.\n",
        "\n",
        "Important: don't use autologging for this exercise.\n",
        "\n",
        "The idea is to just log the information that you need to answer the question below, including:\n",
        "\n",
        "* the list of hyperparameters that are passed to the `objective` function during the optimization.\n",
        "* the RMSE obtained on the validation set (February 2021 data).\n",
        "\n",
        "What's the best validation RMSE that you got?\n",
        "\n",
        "* 6.128\n",
        "* 6.628\n",
        "* 7.128\n",
        "* 7.628"
      ],
      "metadata": {
        "id": "q6dZzuAjStOc"
      }
    },
    {
      "cell_type": "code",
      "source": [
        "!python3 homework/hpo.py --data_path output_taxi"
      ],
      "metadata": {
        "id": "A-ZdXvtHTBfR"
      },
      "execution_count": null,
      "outputs": []
    },
    {
      "cell_type": "markdown",
      "source": [
        "> **Best validation RMSE: 6.628**"
      ],
      "metadata": {
        "id": "KHUomBMmS4bB"
      }
    },
    {
      "cell_type": "markdown",
      "source": [
        "## **Q6. Promote the best model to the model registry**\n",
        "\n",
        "The results from the hyperparameter optimization are quite good so we can assume that we are ready to test some of these models in production. In this exercise, you'll promote the best model to the model registry. We have prepared a script called `register_model.py`, which will check the results from the previous step and select the top 5 runs. After that, it will calculate the RMSE of those models on the test set (March 2021 data) and save the results to a new experiment called `random-forest-best-models`.\n",
        "\n",
        "Your task is to update the script `register_model.py` so that it selects the model with the lowest RMSE on the test set and registers it to the model registry.\n",
        "\n",
        "Tip 1: you can use the method `search_runs` from the `MlflowClient` to get the model with the lowest RMSE.\n",
        "Tip 2: to register the model you can use the method `mlflow.register_model` and you will need to pass the right model_uri in the form of a string that looks like this: `\"runs:/<RUN_ID>/model\"`, and the name of the model (make sure to choose a good one!).\n",
        "\n",
        "What is the test RMSE of the best model?\n",
        "\n",
        "* 6.1\n",
        "* 6.55\n",
        "* 7.93\n",
        "* 15.1"
      ],
      "metadata": {
        "id": "Rfd6ELhxTahK"
      }
    },
    {
      "cell_type": "code",
      "source": [
        "!python3 homework/register_model.py --data_path output_taxi"
      ],
      "metadata": {
        "id": "_Ecl_wHwT4Ug"
      },
      "execution_count": null,
      "outputs": []
    },
    {
      "cell_type": "markdown",
      "source": [
        "> **Test RMSE of the best model: 6.55**"
      ],
      "metadata": {
        "id": "9HXsxzPuTe9W"
      }
    }
  ]
}