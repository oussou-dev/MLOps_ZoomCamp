{
  "nbformat": 4,
  "nbformat_minor": 0,
  "metadata": {
    "colab": {
      "name": "homework_p.ipynb",
      "provenance": [],
      "collapsed_sections": []
    },
    "kernelspec": {
      "name": "python3",
      "display_name": "Python 3"
    },
    "language_info": {
      "name": "python"
    }
  },
  "cells": [
    {
      "cell_type": "markdown",
      "source": [
        "# **MLOps ZoomCamp - Homework #1**"
      ],
      "metadata": {
        "id": "xKL1NRGtuF2m"
      }
    },
    {
      "cell_type": "markdown",
      "source": [
        "~~~\n",
        "The goal of this homework is to train a simple model for predicting the duration of a ride - similar to what we did in this module.\n",
        "~~~"
      ],
      "metadata": {
        "id": "pkP_XsDjuNBc"
      }
    },
    {
      "cell_type": "code",
      "source": [
        "# Import Libs\n",
        "import pandas as pd\n",
        "\n",
        "import seaborn as sns\n",
        "import matplotlib.pyplot as plt\n",
        "\n",
        "from sklearn.feature_extraction import DictVectorizer\n",
        "from sklearn.linear_model import LinearRegression, Lasso, Ridge\n",
        "\n",
        "from sklearn.metrics import mean_squared_error"
      ],
      "metadata": {
        "id": "0e7SWzmhurlo"
      },
      "execution_count": 1,
      "outputs": []
    },
    {
      "cell_type": "markdown",
      "source": [
        "## **Q1. Downloading the data**"
      ],
      "metadata": {
        "id": "jdABbx_RugFO"
      }
    },
    {
      "cell_type": "markdown",
      "source": [
        "We'll use the same NYC taxi dataset, but instead of \"Green Taxi Trip Records\", we'll use \"For-Hire Vehicle Trip Records\".\n",
        "\n",
        "Download the data for January and February 2021.\n",
        "\n",
        "Note that you need \"For-Hire Vehicle Trip Records\", not \"High Volume For-Hire Vehicle Trip Records\".\n",
        "\n",
        "Read the data for January. How many records are there?"
      ],
      "metadata": {
        "id": "s-Ea8PAbukhW"
      }
    },
    {
      "cell_type": "code",
      "source": [
        "df = pd.read_parquet('./data/fhv_tripdata_2021-01.parquet)"
      ],
      "metadata": {
        "id": "0lOzUFIqulQH"
      },
      "execution_count": 18,
      "outputs": []
    },
    {
      "cell_type": "code",
      "source": [
        "df.shape"
      ],
      "metadata": {
        "colab": {
          "base_uri": "https://localhost:8080/"
        },
        "id": "6vclvSYvw2z7",
        "outputId": "0020ab55-bdb1-401b-f574-f4342efe1707"
      },
      "execution_count": 19,
      "outputs": [
        {
          "output_type": "execute_result",
          "data": {
            "text/plain": [
              "(1154112, 7)"
            ]
          },
          "metadata": {},
          "execution_count": 19
        }
      ]
    },
    {
      "cell_type": "markdown",
      "source": [
        "> **1_154_112 records for January**"
      ],
      "metadata": {
        "id": "AIrul4yvxd81"
      }
    },
    {
      "cell_type": "markdown",
      "source": [
        "## **Q2. Computing duration**"
      ],
      "metadata": {
        "id": "zrT-2fonx5Us"
      }
    },
    {
      "cell_type": "markdown",
      "source": [
        "Now let's compute the duration variable. It should contain the duration of a ride in minutes.\n",
        "\n",
        "What's the average trip duration in January?"
      ],
      "metadata": {
        "id": "idwhWHEbyBCP"
      }
    },
    {
      "cell_type": "code",
      "source": [
        "df.head()"
      ],
      "metadata": {
        "colab": {
          "base_uri": "https://localhost:8080/",
          "height": 206
        },
        "id": "M4fOEzaMx8Ov",
        "outputId": "da3a6af4-a61e-4829-b0b7-736cd85f54c5"
      },
      "execution_count": 21,
      "outputs": [
        {
          "output_type": "execute_result",
          "data": {
            "text/plain": [
              "  dispatching_base_num     pickup_datetime    dropOff_datetime  PUlocationID  \\\n",
              "0               B00009 2021-01-01 00:27:00 2021-01-01 00:44:00           NaN   \n",
              "1               B00009 2021-01-01 00:50:00 2021-01-01 01:07:00           NaN   \n",
              "2               B00013 2021-01-01 00:01:00 2021-01-01 01:51:00           NaN   \n",
              "3               B00037 2021-01-01 00:13:09 2021-01-01 00:21:26           NaN   \n",
              "4               B00037 2021-01-01 00:38:31 2021-01-01 00:53:44           NaN   \n",
              "\n",
              "   DOlocationID SR_Flag Affiliated_base_number  \n",
              "0           NaN    None                 B00009  \n",
              "1           NaN    None                 B00009  \n",
              "2           NaN    None                 B00013  \n",
              "3          72.0    None                 B00037  \n",
              "4          61.0    None                 B00037  "
            ],
            "text/html": [
              "\n",
              "  <div id=\"df-b5fb4670-c779-4bd5-99e3-bfee282b4c1b\">\n",
              "    <div class=\"colab-df-container\">\n",
              "      <div>\n",
              "<style scoped>\n",
              "    .dataframe tbody tr th:only-of-type {\n",
              "        vertical-align: middle;\n",
              "    }\n",
              "\n",
              "    .dataframe tbody tr th {\n",
              "        vertical-align: top;\n",
              "    }\n",
              "\n",
              "    .dataframe thead th {\n",
              "        text-align: right;\n",
              "    }\n",
              "</style>\n",
              "<table border=\"1\" class=\"dataframe\">\n",
              "  <thead>\n",
              "    <tr style=\"text-align: right;\">\n",
              "      <th></th>\n",
              "      <th>dispatching_base_num</th>\n",
              "      <th>pickup_datetime</th>\n",
              "      <th>dropOff_datetime</th>\n",
              "      <th>PUlocationID</th>\n",
              "      <th>DOlocationID</th>\n",
              "      <th>SR_Flag</th>\n",
              "      <th>Affiliated_base_number</th>\n",
              "    </tr>\n",
              "  </thead>\n",
              "  <tbody>\n",
              "    <tr>\n",
              "      <th>0</th>\n",
              "      <td>B00009</td>\n",
              "      <td>2021-01-01 00:27:00</td>\n",
              "      <td>2021-01-01 00:44:00</td>\n",
              "      <td>NaN</td>\n",
              "      <td>NaN</td>\n",
              "      <td>None</td>\n",
              "      <td>B00009</td>\n",
              "    </tr>\n",
              "    <tr>\n",
              "      <th>1</th>\n",
              "      <td>B00009</td>\n",
              "      <td>2021-01-01 00:50:00</td>\n",
              "      <td>2021-01-01 01:07:00</td>\n",
              "      <td>NaN</td>\n",
              "      <td>NaN</td>\n",
              "      <td>None</td>\n",
              "      <td>B00009</td>\n",
              "    </tr>\n",
              "    <tr>\n",
              "      <th>2</th>\n",
              "      <td>B00013</td>\n",
              "      <td>2021-01-01 00:01:00</td>\n",
              "      <td>2021-01-01 01:51:00</td>\n",
              "      <td>NaN</td>\n",
              "      <td>NaN</td>\n",
              "      <td>None</td>\n",
              "      <td>B00013</td>\n",
              "    </tr>\n",
              "    <tr>\n",
              "      <th>3</th>\n",
              "      <td>B00037</td>\n",
              "      <td>2021-01-01 00:13:09</td>\n",
              "      <td>2021-01-01 00:21:26</td>\n",
              "      <td>NaN</td>\n",
              "      <td>72.0</td>\n",
              "      <td>None</td>\n",
              "      <td>B00037</td>\n",
              "    </tr>\n",
              "    <tr>\n",
              "      <th>4</th>\n",
              "      <td>B00037</td>\n",
              "      <td>2021-01-01 00:38:31</td>\n",
              "      <td>2021-01-01 00:53:44</td>\n",
              "      <td>NaN</td>\n",
              "      <td>61.0</td>\n",
              "      <td>None</td>\n",
              "      <td>B00037</td>\n",
              "    </tr>\n",
              "  </tbody>\n",
              "</table>\n",
              "</div>\n",
              "      <button class=\"colab-df-convert\" onclick=\"convertToInteractive('df-b5fb4670-c779-4bd5-99e3-bfee282b4c1b')\"\n",
              "              title=\"Convert this dataframe to an interactive table.\"\n",
              "              style=\"display:none;\">\n",
              "        \n",
              "  <svg xmlns=\"http://www.w3.org/2000/svg\" height=\"24px\"viewBox=\"0 0 24 24\"\n",
              "       width=\"24px\">\n",
              "    <path d=\"M0 0h24v24H0V0z\" fill=\"none\"/>\n",
              "    <path d=\"M18.56 5.44l.94 2.06.94-2.06 2.06-.94-2.06-.94-.94-2.06-.94 2.06-2.06.94zm-11 1L8.5 8.5l.94-2.06 2.06-.94-2.06-.94L8.5 2.5l-.94 2.06-2.06.94zm10 10l.94 2.06.94-2.06 2.06-.94-2.06-.94-.94-2.06-.94 2.06-2.06.94z\"/><path d=\"M17.41 7.96l-1.37-1.37c-.4-.4-.92-.59-1.43-.59-.52 0-1.04.2-1.43.59L10.3 9.45l-7.72 7.72c-.78.78-.78 2.05 0 2.83L4 21.41c.39.39.9.59 1.41.59.51 0 1.02-.2 1.41-.59l7.78-7.78 2.81-2.81c.8-.78.8-2.07 0-2.86zM5.41 20L4 18.59l7.72-7.72 1.47 1.35L5.41 20z\"/>\n",
              "  </svg>\n",
              "      </button>\n",
              "      \n",
              "  <style>\n",
              "    .colab-df-container {\n",
              "      display:flex;\n",
              "      flex-wrap:wrap;\n",
              "      gap: 12px;\n",
              "    }\n",
              "\n",
              "    .colab-df-convert {\n",
              "      background-color: #E8F0FE;\n",
              "      border: none;\n",
              "      border-radius: 50%;\n",
              "      cursor: pointer;\n",
              "      display: none;\n",
              "      fill: #1967D2;\n",
              "      height: 32px;\n",
              "      padding: 0 0 0 0;\n",
              "      width: 32px;\n",
              "    }\n",
              "\n",
              "    .colab-df-convert:hover {\n",
              "      background-color: #E2EBFA;\n",
              "      box-shadow: 0px 1px 2px rgba(60, 64, 67, 0.3), 0px 1px 3px 1px rgba(60, 64, 67, 0.15);\n",
              "      fill: #174EA6;\n",
              "    }\n",
              "\n",
              "    [theme=dark] .colab-df-convert {\n",
              "      background-color: #3B4455;\n",
              "      fill: #D2E3FC;\n",
              "    }\n",
              "\n",
              "    [theme=dark] .colab-df-convert:hover {\n",
              "      background-color: #434B5C;\n",
              "      box-shadow: 0px 1px 3px 1px rgba(0, 0, 0, 0.15);\n",
              "      filter: drop-shadow(0px 1px 2px rgba(0, 0, 0, 0.3));\n",
              "      fill: #FFFFFF;\n",
              "    }\n",
              "  </style>\n",
              "\n",
              "      <script>\n",
              "        const buttonEl =\n",
              "          document.querySelector('#df-b5fb4670-c779-4bd5-99e3-bfee282b4c1b button.colab-df-convert');\n",
              "        buttonEl.style.display =\n",
              "          google.colab.kernel.accessAllowed ? 'block' : 'none';\n",
              "\n",
              "        async function convertToInteractive(key) {\n",
              "          const element = document.querySelector('#df-b5fb4670-c779-4bd5-99e3-bfee282b4c1b');\n",
              "          const dataTable =\n",
              "            await google.colab.kernel.invokeFunction('convertToInteractive',\n",
              "                                                     [key], {});\n",
              "          if (!dataTable) return;\n",
              "\n",
              "          const docLinkHtml = 'Like what you see? Visit the ' +\n",
              "            '<a target=\"_blank\" href=https://colab.research.google.com/notebooks/data_table.ipynb>data table notebook</a>'\n",
              "            + ' to learn more about interactive tables.';\n",
              "          element.innerHTML = '';\n",
              "          dataTable['output_type'] = 'display_data';\n",
              "          await google.colab.output.renderOutput(dataTable, element);\n",
              "          const docLink = document.createElement('div');\n",
              "          docLink.innerHTML = docLinkHtml;\n",
              "          element.appendChild(docLink);\n",
              "        }\n",
              "      </script>\n",
              "    </div>\n",
              "  </div>\n",
              "  "
            ]
          },
          "metadata": {},
          "execution_count": 21
        }
      ]
    },
    {
      "cell_type": "code",
      "source": [
        "df.dtypes"
      ],
      "metadata": {
        "colab": {
          "base_uri": "https://localhost:8080/"
        },
        "id": "w-WHl_zNxuI_",
        "outputId": "b5fe9cf4-b88c-465c-ef94-fa34f63eb299"
      },
      "execution_count": 22,
      "outputs": [
        {
          "output_type": "execute_result",
          "data": {
            "text/plain": [
              "dispatching_base_num              object\n",
              "pickup_datetime           datetime64[ns]\n",
              "dropOff_datetime          datetime64[ns]\n",
              "PUlocationID                     float64\n",
              "DOlocationID                     float64\n",
              "SR_Flag                           object\n",
              "Affiliated_base_number            object\n",
              "dtype: object"
            ]
          },
          "metadata": {},
          "execution_count": 22
        }
      ]
    },
    {
      "cell_type": "code",
      "source": [
        "df['duration'] = df['dropOff_datetime'] - df['pickup_datetime']\n",
        "df['duration'] = df['duration'].apply(lambda i: i.total_seconds() / 60)"
      ],
      "metadata": {
        "id": "pfO85Rxmzkzz"
      },
      "execution_count": 23,
      "outputs": []
    },
    {
      "cell_type": "code",
      "source": [
        "df['duration'].mean()"
      ],
      "metadata": {
        "colab": {
          "base_uri": "https://localhost:8080/"
        },
        "id": "hAxERrtm0GER",
        "outputId": "ff73d70a-edab-46d4-94e7-5f4cf8ab6c99"
      },
      "execution_count": 24,
      "outputs": [
        {
          "output_type": "execute_result",
          "data": {
            "text/plain": [
              "19.1672240937939"
            ]
          },
          "metadata": {},
          "execution_count": 24
        }
      ]
    },
    {
      "cell_type": "markdown",
      "source": [
        "> **Average trip duration in January: 19.17**"
      ],
      "metadata": {
        "id": "26EfwYBL0SDw"
      }
    },
    {
      "cell_type": "markdown",
      "source": [
        "## **Data preparation**"
      ],
      "metadata": {
        "id": "KJnqzuED0kq7"
      }
    },
    {
      "cell_type": "markdown",
      "source": [
        "Check the distribution of the duration variable. There are some outliers. \n",
        "\n",
        "Let's remove them and keep only the records where the duration was between 1 and 60 minutes (inclusive).\n",
        "\n",
        "How many records did you drop?"
      ],
      "metadata": {
        "id": "ZXf1BDQu0phV"
      }
    },
    {
      "cell_type": "code",
      "source": [
        "df['duration'].describe(percentiles=[.95, .98, .99]).apply('{0:.2f}'.format)"
      ],
      "metadata": {
        "colab": {
          "base_uri": "https://localhost:8080/"
        },
        "id": "NIYdtu9K0msi",
        "outputId": "bb7ba082-75c7-41cf-dfc7-0e41342c07d1"
      },
      "execution_count": 25,
      "outputs": [
        {
          "output_type": "execute_result",
          "data": {
            "text/plain": [
              "count    1154112.00\n",
              "mean          19.17\n",
              "std          398.69\n",
              "min            0.02\n",
              "50%           13.40\n",
              "95%           47.25\n",
              "98%           66.13\n",
              "99%           90.30\n",
              "max       423371.05\n",
              "Name: duration, dtype: object"
            ]
          },
          "metadata": {},
          "execution_count": 25
        }
      ]
    },
    {
      "cell_type": "code",
      "source": [
        "start = df.shape[0]\n",
        "df = df[(df.duration >=1) & (df.duration <=60)]\n",
        "end = df.shape[0]\n",
        "\n",
        "start - end\n"
      ],
      "metadata": {
        "colab": {
          "base_uri": "https://localhost:8080/"
        },
        "id": "VWKQGoTO0e-B",
        "outputId": "d1360b0c-a1ef-491d-dbb9-b40f17edcf4c"
      },
      "execution_count": 26,
      "outputs": [
        {
          "output_type": "execute_result",
          "data": {
            "text/plain": [
              "44286"
            ]
          },
          "metadata": {},
          "execution_count": 26
        }
      ]
    },
    {
      "cell_type": "markdown",
      "source": [
        "> **44286 records dropped from dataset**"
      ],
      "metadata": {
        "id": "YaXHHTN65Jjd"
      }
    },
    {
      "cell_type": "markdown",
      "source": [
        "## **Q3. Missing values**"
      ],
      "metadata": {
        "id": "2pb7Nu2d5T22"
      }
    },
    {
      "cell_type": "markdown",
      "source": [
        "The features we'll use for our model are the pickup and dropoff location IDs. \n",
        "\n",
        "But they have a lot of missing values there. Let's replace them with \"-1\".\n",
        "\n",
        "What's the fractions of missing values for the pickup location ID? I.e. fraction of \"-1\"s after you filled the NAs."
      ],
      "metadata": {
        "id": "jqnI2sdR5ac1"
      }
    },
    {
      "cell_type": "code",
      "source": [
        "df.shape"
      ],
      "metadata": {
        "colab": {
          "base_uri": "https://localhost:8080/"
        },
        "id": "E7WgYANmulVq",
        "outputId": "eb4e656c-faf4-4d1b-b3cd-4bf133609fcd"
      },
      "execution_count": 29,
      "outputs": [
        {
          "output_type": "execute_result",
          "data": {
            "text/plain": [
              "(1109826, 8)"
            ]
          },
          "metadata": {},
          "execution_count": 29
        }
      ]
    },
    {
      "cell_type": "code",
      "source": [
        "df.isnull().sum().sum()"
      ],
      "metadata": {
        "colab": {
          "base_uri": "https://localhost:8080/"
        },
        "id": "VTNoXN1BulYL",
        "outputId": "11c97a94-c08c-4990-db6e-7678110386fc"
      },
      "execution_count": 34,
      "outputs": [
        {
          "output_type": "execute_result",
          "data": {
            "text/plain": [
              "2185514"
            ]
          },
          "metadata": {},
          "execution_count": 34
        }
      ]
    },
    {
      "cell_type": "code",
      "source": [
        "df = df.fillna(-1)"
      ],
      "metadata": {
        "id": "FWmknzteulaX"
      },
      "execution_count": 35,
      "outputs": []
    },
    {
      "cell_type": "code",
      "source": [
        "(df[\"PUlocationID\"] == -1).mean()"
      ],
      "metadata": {
        "colab": {
          "base_uri": "https://localhost:8080/"
        },
        "id": "1K33jrpCuJ43",
        "outputId": "10ec29ed-b0db-4708-889b-8f25a2e04eb1"
      },
      "execution_count": 38,
      "outputs": [
        {
          "output_type": "execute_result",
          "data": {
            "text/plain": [
              "0.8352732770722617"
            ]
          },
          "metadata": {},
          "execution_count": 38
        }
      ]
    },
    {
      "cell_type": "markdown",
      "source": [
        "> **83% of pickup location IDs are missing**"
      ],
      "metadata": {
        "id": "9LbDdIuC8Z1z"
      }
    },
    {
      "cell_type": "markdown",
      "source": [
        "## **Q4. One-hot encoding**"
      ],
      "metadata": {
        "id": "jUPC1xqP89fd"
      }
    },
    {
      "cell_type": "markdown",
      "source": [
        "Let's apply one-hot encoding to the pickup and dropoff location IDs. We'll use only these two features for our model. \n",
        "\n",
        "* Turn the dataframe into a list of dictionaries\n",
        "* Fit a dictionary vectorizer \n",
        "* Get a feature matrix from it\n",
        "\n",
        "What's the dimensionality of this matrix? (The number of columns)."
      ],
      "metadata": {
        "id": "wzL-4JPD9Dg9"
      }
    },
    {
      "cell_type": "code",
      "execution_count": 39,
      "metadata": {
        "id": "LomqV4AJt8aa"
      },
      "outputs": [],
      "source": [
        "cat_cols = ['PUlocationID', 'DOlocationID']\n",
        "df[cat_cols] = df[cat_cols].astype(str)\n",
        "\n",
        "dv = DictVectorizer()\n",
        "\n",
        "train_dicts = df[cat_cols].to_dict(orient='records')\n",
        "X_train = dv.fit_transform(train_dicts)"
      ]
    },
    {
      "cell_type": "code",
      "source": [
        "X_train.shape"
      ],
      "metadata": {
        "colab": {
          "base_uri": "https://localhost:8080/"
        },
        "id": "MmNory6T-xzq",
        "outputId": "1f7f30d2-676f-4d2e-d985-a7d37a02664f"
      },
      "execution_count": 41,
      "outputs": [
        {
          "output_type": "execute_result",
          "data": {
            "text/plain": [
              "(1109826, 525)"
            ]
          },
          "metadata": {},
          "execution_count": 41
        }
      ]
    },
    {
      "cell_type": "markdown",
      "source": [
        "> **The dimensionality of this matrix? (The number of columns) is 525**"
      ],
      "metadata": {
        "id": "RtyZzEPT_Xc9"
      }
    },
    {
      "cell_type": "markdown",
      "source": [
        "## **Q5. Training a model**"
      ],
      "metadata": {
        "id": "ARXIhi3E_psk"
      }
    },
    {
      "cell_type": "markdown",
      "source": [
        "Now let's use the feature matrix from the previous step to train a model. \n",
        "\n",
        "* Train a plain linear regression model with default parameters \n",
        "* Calculate the RMSE of the model on the training data\n",
        "\n",
        "What's the RMSE on train?"
      ],
      "metadata": {
        "id": "9B3G7HpV_u2m"
      }
    },
    {
      "cell_type": "code",
      "source": [
        "target = 'duration'\n",
        "y_train = df[target].values\n",
        "\n",
        "lr = LinearRegression()\n",
        "lr.fit(X_train, y_train)\n",
        "\n",
        "y_pred = lr.predict(X_train)\n",
        "\n",
        "rmse_train = mean_squared_error(y_train, y_pred, squared=False)"
      ],
      "metadata": {
        "id": "f00tN175-xws"
      },
      "execution_count": 42,
      "outputs": []
    },
    {
      "cell_type": "code",
      "source": [
        "rmse_train"
      ],
      "metadata": {
        "colab": {
          "base_uri": "https://localhost:8080/"
        },
        "id": "5GbBS0v2A2b1",
        "outputId": "08476c31-60cb-4fcd-b95a-8a2ab90f75af"
      },
      "execution_count": 43,
      "outputs": [
        {
          "output_type": "execute_result",
          "data": {
            "text/plain": [
              "10.528519107210744"
            ]
          },
          "metadata": {},
          "execution_count": 43
        }
      ]
    },
    {
      "cell_type": "markdown",
      "source": [
        "> **The RMSE on train is 10.53**"
      ],
      "metadata": {
        "id": "taeDM21CBBE-"
      }
    },
    {
      "cell_type": "markdown",
      "source": [
        "## **Q6. Evaluating the model**"
      ],
      "metadata": {
        "id": "P07G7T7UBT5m"
      }
    },
    {
      "cell_type": "markdown",
      "source": [
        "Now let's apply this model to the validation dataset (Feb 2021). \n",
        "\n",
        "What's the RMSE on validation?\n"
      ],
      "metadata": {
        "id": "dyTDGD_dBTyl"
      }
    },
    {
      "cell_type": "code",
      "source": [
        "df_val = pd.read_parquet('./data/fhv_tripdata_2021-02.parquet')\n",
        "\n",
        "df_val['duration'] = df_val['dropOff_datetime'] - df_val['pickup_datetime']\n",
        "df_val['duration'] = df_val.duration.apply(lambda td: td.total_seconds()/60)\n",
        "df_val = df_val[(df_val.duration >=1) & (df_val.duration <=60)]\n",
        "\n",
        "df_val = df_val.fillna(-1)\n",
        "\n",
        "df_val[cat_cols] = df_val[cat_cols].astype(str)  \n",
        "\n",
        "val_dicts = df_val[cat_cols].to_dict(orient='records')\n",
        "X_val = dv.transform(val_dicts)\n",
        "\n",
        "y_val = df_val['duration'].values\n",
        "y_pred = lr.predict(X_val)\n",
        "\n",
        "rmse_val = mean_squared_error(y_val, y_pred, squared=False)"
      ],
      "metadata": {
        "id": "SoNHDXhdBZ0F"
      },
      "execution_count": 44,
      "outputs": []
    },
    {
      "cell_type": "code",
      "source": [
        "rmse_val"
      ],
      "metadata": {
        "colab": {
          "base_uri": "https://localhost:8080/"
        },
        "id": "RHGX8BNwCRRw",
        "outputId": "5100a4df-aa68-47f1-d49b-af382c38e596"
      },
      "execution_count": 45,
      "outputs": [
        {
          "output_type": "execute_result",
          "data": {
            "text/plain": [
              "11.014283196111764"
            ]
          },
          "metadata": {},
          "execution_count": 45
        }
      ]
    },
    {
      "cell_type": "markdown",
      "source": [
        "> **The RMSE on validation is 11.01**"
      ],
      "metadata": {
        "id": "8EzX7Lm_BTuO"
      }
    }
  ]
}